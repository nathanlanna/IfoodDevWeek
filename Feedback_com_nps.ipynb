{
  "cells": [
    {
      "cell_type": "markdown",
      "metadata": {
        "id": "view-in-github",
        "colab_type": "text"
      },
      "source": [
        "<a href=\"https://colab.research.google.com/github/nathanlanna/IfoodDevWeek/blob/main/Feedback_com_nps.ipynb\" target=\"_parent\"><img src=\"https://colab.research.google.com/assets/colab-badge.svg\" alt=\"Open In Colab\"/></a>"
      ]
    },
    {
      "cell_type": "code",
      "source": [
        "import pandas as pd\n",
        "\n",
        "class Feedback:\n",
        "\n",
        "  def __init__(self, nota, comentario):\n",
        "    self.nota = nota\n",
        "    self.comentario = comentario\n",
        "\n",
        "class AnalisaFeedback:\n",
        "  def __init__(self, feedback):\n",
        "    self.feedback = feedback\n",
        "\n",
        "  def calcula_nps(self):\n",
        "    promotores = sum([1 for feedback in self.feedback if feedback.nota >= 9])\n",
        "    detratores = sum([1 for feedback in self.feedback if feedback.nota <= 7])\n",
        "\n",
        "    nps = (promotores - detratores)/len(self.feedback) * 100\n",
        "    return nps\n",
        "\n",
        "dados = pd.read_csv('./Feedbacks.csv')\n",
        "\n",
        "feedbacks = [Feedback(linha['nota'],linha['comentarios']) for i, linha in dados.iterrows()]\n",
        "\n",
        "analisador = AnalisaFeedback(feedbacks)\n",
        "nps = analisador.calcula_nps()\n",
        "print(nps)"
      ],
      "metadata": {
        "id": "haTDb0qOe1VT",
        "colab": {
          "base_uri": "https://localhost:8080/"
        },
        "outputId": "81e75947-2c30-4287-e368-5b1c86b85f96"
      },
      "execution_count": null,
      "outputs": [
        {
          "output_type": "stream",
          "name": "stdout",
          "text": [
            "33.33333333333333\n"
          ]
        }
      ]
    }
  ],
  "metadata": {
    "colab": {
      "provenance": [],
      "include_colab_link": true
    },
    "kernelspec": {
      "display_name": "Python 3",
      "name": "python3"
    }
  },
  "nbformat": 4,
  "nbformat_minor": 0
}